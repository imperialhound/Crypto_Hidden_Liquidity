{
 "cells": [
  {
   "cell_type": "markdown",
   "metadata": {},
   "source": [
    "# Exploration\n"
   ]
  },
  {
   "cell_type": "code",
   "execution_count": 1,
   "metadata": {},
   "outputs": [],
   "source": [
    "# Importing Necessary packages \n",
    "import pandas as pd\n",
    "import numpy as np\n",
    "from Utils.Metrics import Metrics\n",
    "from Utils.ModelStats import ModelStats\n",
    "from Utils.Preprocessor import TrainingPreprocessor"
   ]
  },
  {
   "cell_type": "code",
   "execution_count": 2,
   "metadata": {},
   "outputs": [],
   "source": [
    "exchange = 'Bitfinex'"
   ]
  },
  {
   "cell_type": "markdown",
   "metadata": {},
   "source": [
    "# Input cleaned data"
   ]
  },
  {
   "cell_type": "code",
   "execution_count": 3,
   "metadata": {},
   "outputs": [],
   "source": [
    "# Importing Exchange Data\n",
    "book = pd.read_csv(f\"Data/{exchange}/book/{exchange}_cleaned.csv\",error_bad_lines=False, engine=\"python\")\n",
    "book = book.sort_values('receipt_timestamp')"
   ]
  },
  {
   "cell_type": "code",
   "execution_count": 4,
   "metadata": {},
   "outputs": [],
   "source": [
    "trades = pd.read_csv(f\"Data/{exchange}/trade/{exchange}_trades.csv\")\n",
    "trades = trades.sort_values('receipt_timestamp')"
   ]
  },
  {
   "cell_type": "code",
   "execution_count": 5,
   "metadata": {},
   "outputs": [
    {
     "data": {
      "text/plain": [
       "(1070878, 11)"
      ]
     },
     "execution_count": 5,
     "metadata": {},
     "output_type": "execute_result"
    }
   ],
   "source": [
    "book.shape"
   ]
  },
  {
   "cell_type": "code",
   "execution_count": 6,
   "metadata": {},
   "outputs": [
    {
     "data": {
      "text/plain": [
       "(156052, 10)"
      ]
     },
     "execution_count": 6,
     "metadata": {},
     "output_type": "execute_result"
    }
   ],
   "source": [
    "trades.shape"
   ]
  },
  {
   "cell_type": "code",
   "execution_count": 7,
   "metadata": {},
   "outputs": [
    {
     "data": {
      "text/html": [
       "<div>\n",
       "<style scoped>\n",
       "    .dataframe tbody tr th:only-of-type {\n",
       "        vertical-align: middle;\n",
       "    }\n",
       "\n",
       "    .dataframe tbody tr th {\n",
       "        vertical-align: top;\n",
       "    }\n",
       "\n",
       "    .dataframe thead th {\n",
       "        text-align: right;\n",
       "    }\n",
       "</style>\n",
       "<table border=\"1\" class=\"dataframe\">\n",
       "  <thead>\n",
       "    <tr style=\"text-align: right;\">\n",
       "      <th></th>\n",
       "      <th>Unnamed: 0</th>\n",
       "      <th>Unnamed: 0.1</th>\n",
       "      <th>receipt_timestamp</th>\n",
       "      <th>bid</th>\n",
       "      <th>ask</th>\n",
       "      <th>best_bid_price</th>\n",
       "      <th>best_ask_price</th>\n",
       "      <th>best_bid_volume</th>\n",
       "      <th>best_ask_volume</th>\n",
       "      <th>bid_total_depth</th>\n",
       "      <th>ask_total_depth</th>\n",
       "    </tr>\n",
       "  </thead>\n",
       "  <tbody>\n",
       "    <tr>\n",
       "      <td>0</td>\n",
       "      <td>0</td>\n",
       "      <td>83886</td>\n",
       "      <td>2021-09-16 15:52:38.140</td>\n",
       "      <td>{'47553.24':'0.25232','47552.13':'0.017','4754...</td>\n",
       "      <td>{'47553.25':'0.075','47554.64':'1.05127','4755...</td>\n",
       "      <td>47553.24</td>\n",
       "      <td>47553.25</td>\n",
       "      <td>0.25232</td>\n",
       "      <td>0.075000</td>\n",
       "      <td>4.424740</td>\n",
       "      <td>4.966640</td>\n",
       "    </tr>\n",
       "    <tr>\n",
       "      <td>1</td>\n",
       "      <td>1</td>\n",
       "      <td>84890</td>\n",
       "      <td>2021-09-16 15:52:38.204</td>\n",
       "      <td>{'47591':'0.0002','47590':'0.0002','47589':'0....</td>\n",
       "      <td>{'47592':'3.4478725900000002','47593':'0.21024...</td>\n",
       "      <td>47591.00</td>\n",
       "      <td>47592.00</td>\n",
       "      <td>0.00020</td>\n",
       "      <td>3.447873</td>\n",
       "      <td>1.787602</td>\n",
       "      <td>15.368841</td>\n",
       "    </tr>\n",
       "    <tr>\n",
       "      <td>2</td>\n",
       "      <td>2</td>\n",
       "      <td>84891</td>\n",
       "      <td>2021-09-16 15:52:38.211</td>\n",
       "      <td>{'47591':'0.0002','47590':'0.0002','47589':'0....</td>\n",
       "      <td>{'47592':'3.44662505','47593':'0.210249','4759...</td>\n",
       "      <td>47591.00</td>\n",
       "      <td>47592.00</td>\n",
       "      <td>0.00020</td>\n",
       "      <td>3.446625</td>\n",
       "      <td>1.787602</td>\n",
       "      <td>15.367593</td>\n",
       "    </tr>\n",
       "    <tr>\n",
       "      <td>3</td>\n",
       "      <td>3</td>\n",
       "      <td>83888</td>\n",
       "      <td>2021-09-16 15:52:38.341</td>\n",
       "      <td>{'47553.24':'0.25165','47552.13':'0.017','4754...</td>\n",
       "      <td>{'47553.25':'0.01643','47554.63':'0.36802','47...</td>\n",
       "      <td>47553.24</td>\n",
       "      <td>47553.25</td>\n",
       "      <td>0.25165</td>\n",
       "      <td>0.016430</td>\n",
       "      <td>4.232130</td>\n",
       "      <td>4.783810</td>\n",
       "    </tr>\n",
       "    <tr>\n",
       "      <td>4</td>\n",
       "      <td>4</td>\n",
       "      <td>83889</td>\n",
       "      <td>2021-09-16 15:52:38.439</td>\n",
       "      <td>{'47553.24':'0.27665','47552.13':'0.017','4754...</td>\n",
       "      <td>{'47553.25':'0.00916','47554.63':'0.36802','47...</td>\n",
       "      <td>47553.24</td>\n",
       "      <td>47553.25</td>\n",
       "      <td>0.27665</td>\n",
       "      <td>0.009160</td>\n",
       "      <td>4.257130</td>\n",
       "      <td>4.776540</td>\n",
       "    </tr>\n",
       "  </tbody>\n",
       "</table>\n",
       "</div>"
      ],
      "text/plain": [
       "   Unnamed: 0  Unnamed: 0.1        receipt_timestamp  \\\n",
       "0           0         83886  2021-09-16 15:52:38.140   \n",
       "1           1         84890  2021-09-16 15:52:38.204   \n",
       "2           2         84891  2021-09-16 15:52:38.211   \n",
       "3           3         83888  2021-09-16 15:52:38.341   \n",
       "4           4         83889  2021-09-16 15:52:38.439   \n",
       "\n",
       "                                                 bid  \\\n",
       "0  {'47553.24':'0.25232','47552.13':'0.017','4754...   \n",
       "1  {'47591':'0.0002','47590':'0.0002','47589':'0....   \n",
       "2  {'47591':'0.0002','47590':'0.0002','47589':'0....   \n",
       "3  {'47553.24':'0.25165','47552.13':'0.017','4754...   \n",
       "4  {'47553.24':'0.27665','47552.13':'0.017','4754...   \n",
       "\n",
       "                                                 ask  best_bid_price  \\\n",
       "0  {'47553.25':'0.075','47554.64':'1.05127','4755...        47553.24   \n",
       "1  {'47592':'3.4478725900000002','47593':'0.21024...        47591.00   \n",
       "2  {'47592':'3.44662505','47593':'0.210249','4759...        47591.00   \n",
       "3  {'47553.25':'0.01643','47554.63':'0.36802','47...        47553.24   \n",
       "4  {'47553.25':'0.00916','47554.63':'0.36802','47...        47553.24   \n",
       "\n",
       "   best_ask_price  best_bid_volume  best_ask_volume  bid_total_depth  \\\n",
       "0        47553.25          0.25232         0.075000         4.424740   \n",
       "1        47592.00          0.00020         3.447873         1.787602   \n",
       "2        47592.00          0.00020         3.446625         1.787602   \n",
       "3        47553.25          0.25165         0.016430         4.232130   \n",
       "4        47553.25          0.27665         0.009160         4.257130   \n",
       "\n",
       "   ask_total_depth  \n",
       "0         4.966640  \n",
       "1        15.368841  \n",
       "2        15.367593  \n",
       "3         4.783810  \n",
       "4         4.776540  "
      ]
     },
     "execution_count": 7,
     "metadata": {},
     "output_type": "execute_result"
    }
   ],
   "source": [
    "book.head()"
   ]
  },
  {
   "cell_type": "code",
   "execution_count": 8,
   "metadata": {},
   "outputs": [
    {
     "data": {
      "text/html": [
       "<div>\n",
       "<style scoped>\n",
       "    .dataframe tbody tr th:only-of-type {\n",
       "        vertical-align: middle;\n",
       "    }\n",
       "\n",
       "    .dataframe tbody tr th {\n",
       "        vertical-align: top;\n",
       "    }\n",
       "\n",
       "    .dataframe thead th {\n",
       "        text-align: right;\n",
       "    }\n",
       "</style>\n",
       "<table border=\"1\" class=\"dataframe\">\n",
       "  <thead>\n",
       "    <tr style=\"text-align: right;\">\n",
       "      <th></th>\n",
       "      <th>Unnamed: 0</th>\n",
       "      <th>feed</th>\n",
       "      <th>symbol</th>\n",
       "      <th>timestamp</th>\n",
       "      <th>receipt_timestamp</th>\n",
       "      <th>side</th>\n",
       "      <th>amount</th>\n",
       "      <th>price</th>\n",
       "      <th>order_type</th>\n",
       "      <th>id</th>\n",
       "    </tr>\n",
       "  </thead>\n",
       "  <tbody>\n",
       "    <tr>\n",
       "      <td>106406</td>\n",
       "      <td>557532</td>\n",
       "      <td>BITFINEX</td>\n",
       "      <td>BTC-USD</td>\n",
       "      <td>1970-01-01 01:00:00.000</td>\n",
       "      <td>2021-09-16 11:13:31.709</td>\n",
       "      <td>buy</td>\n",
       "      <td>0.001652</td>\n",
       "      <td>48136.768189</td>\n",
       "      <td>NaN</td>\n",
       "      <td>829698397</td>\n",
       "    </tr>\n",
       "    <tr>\n",
       "      <td>106407</td>\n",
       "      <td>557533</td>\n",
       "      <td>BITFINEX</td>\n",
       "      <td>BTC-USD</td>\n",
       "      <td>1970-01-01 01:00:00.000</td>\n",
       "      <td>2021-09-16 11:13:31.710</td>\n",
       "      <td>buy</td>\n",
       "      <td>0.100000</td>\n",
       "      <td>48137.000000</td>\n",
       "      <td>NaN</td>\n",
       "      <td>829698399</td>\n",
       "    </tr>\n",
       "    <tr>\n",
       "      <td>106408</td>\n",
       "      <td>557534</td>\n",
       "      <td>BITFINEX</td>\n",
       "      <td>BTC-USD</td>\n",
       "      <td>1970-01-01 01:00:00.000</td>\n",
       "      <td>2021-09-16 11:13:31.711</td>\n",
       "      <td>buy</td>\n",
       "      <td>0.024270</td>\n",
       "      <td>48137.000000</td>\n",
       "      <td>NaN</td>\n",
       "      <td>829698400</td>\n",
       "    </tr>\n",
       "    <tr>\n",
       "      <td>106409</td>\n",
       "      <td>557535</td>\n",
       "      <td>BITFINEX</td>\n",
       "      <td>BTC-USD</td>\n",
       "      <td>1970-01-01 01:00:00.000</td>\n",
       "      <td>2021-09-16 11:13:31.870</td>\n",
       "      <td>buy</td>\n",
       "      <td>0.070000</td>\n",
       "      <td>48138.000000</td>\n",
       "      <td>NaN</td>\n",
       "      <td>829698401</td>\n",
       "    </tr>\n",
       "    <tr>\n",
       "      <td>106410</td>\n",
       "      <td>557536</td>\n",
       "      <td>BITFINEX</td>\n",
       "      <td>BTC-USD</td>\n",
       "      <td>1970-01-01 01:00:00.000</td>\n",
       "      <td>2021-09-16 11:13:32.908</td>\n",
       "      <td>buy</td>\n",
       "      <td>0.000400</td>\n",
       "      <td>48142.291944</td>\n",
       "      <td>NaN</td>\n",
       "      <td>829698402</td>\n",
       "    </tr>\n",
       "  </tbody>\n",
       "</table>\n",
       "</div>"
      ],
      "text/plain": [
       "        Unnamed: 0      feed   symbol                timestamp  \\\n",
       "106406      557532  BITFINEX  BTC-USD  1970-01-01 01:00:00.000   \n",
       "106407      557533  BITFINEX  BTC-USD  1970-01-01 01:00:00.000   \n",
       "106408      557534  BITFINEX  BTC-USD  1970-01-01 01:00:00.000   \n",
       "106409      557535  BITFINEX  BTC-USD  1970-01-01 01:00:00.000   \n",
       "106410      557536  BITFINEX  BTC-USD  1970-01-01 01:00:00.000   \n",
       "\n",
       "              receipt_timestamp side    amount         price  order_type  \\\n",
       "106406  2021-09-16 11:13:31.709  buy  0.001652  48136.768189         NaN   \n",
       "106407  2021-09-16 11:13:31.710  buy  0.100000  48137.000000         NaN   \n",
       "106408  2021-09-16 11:13:31.711  buy  0.024270  48137.000000         NaN   \n",
       "106409  2021-09-16 11:13:31.870  buy  0.070000  48138.000000         NaN   \n",
       "106410  2021-09-16 11:13:32.908  buy  0.000400  48142.291944         NaN   \n",
       "\n",
       "               id  \n",
       "106406  829698397  \n",
       "106407  829698399  \n",
       "106408  829698400  \n",
       "106409  829698401  \n",
       "106410  829698402  "
      ]
     },
     "execution_count": 8,
     "metadata": {},
     "output_type": "execute_result"
    }
   ],
   "source": [
    "trades.head()"
   ]
  },
  {
   "cell_type": "markdown",
   "metadata": {},
   "source": [
    "# Basic Statistics"
   ]
  },
  {
   "cell_type": "code",
   "execution_count": 9,
   "metadata": {},
   "outputs": [
    {
     "data": {
      "text/html": [
       "<div>\n",
       "<style scoped>\n",
       "    .dataframe tbody tr th:only-of-type {\n",
       "        vertical-align: middle;\n",
       "    }\n",
       "\n",
       "    .dataframe tbody tr th {\n",
       "        vertical-align: top;\n",
       "    }\n",
       "\n",
       "    .dataframe thead th {\n",
       "        text-align: right;\n",
       "    }\n",
       "</style>\n",
       "<table border=\"1\" class=\"dataframe\">\n",
       "  <thead>\n",
       "    <tr style=\"text-align: right;\">\n",
       "      <th></th>\n",
       "      <th>Unnamed: 0</th>\n",
       "      <th>Unnamed: 0.1</th>\n",
       "      <th>best_bid_price</th>\n",
       "      <th>best_ask_price</th>\n",
       "      <th>best_bid_volume</th>\n",
       "      <th>best_ask_volume</th>\n",
       "      <th>bid_total_depth</th>\n",
       "      <th>ask_total_depth</th>\n",
       "    </tr>\n",
       "  </thead>\n",
       "  <tbody>\n",
       "    <tr>\n",
       "      <td>count</td>\n",
       "      <td>1.070878e+06</td>\n",
       "      <td>1.070878e+06</td>\n",
       "      <td>1.070878e+06</td>\n",
       "      <td>1.070878e+06</td>\n",
       "      <td>1.070878e+06</td>\n",
       "      <td>1.070878e+06</td>\n",
       "      <td>1.070878e+06</td>\n",
       "      <td>1.070878e+06</td>\n",
       "    </tr>\n",
       "    <tr>\n",
       "      <td>mean</td>\n",
       "      <td>5.616117e+04</td>\n",
       "      <td>5.196628e+06</td>\n",
       "      <td>4.772334e+04</td>\n",
       "      <td>4.772483e+04</td>\n",
       "      <td>1.058736e+00</td>\n",
       "      <td>1.118732e+00</td>\n",
       "      <td>9.979630e+00</td>\n",
       "      <td>1.039099e+01</td>\n",
       "    </tr>\n",
       "    <tr>\n",
       "      <td>std</td>\n",
       "      <td>3.672838e+04</td>\n",
       "      <td>3.176548e+06</td>\n",
       "      <td>3.641765e+02</td>\n",
       "      <td>3.639573e+02</td>\n",
       "      <td>2.886894e+00</td>\n",
       "      <td>2.089361e+00</td>\n",
       "      <td>8.567722e+00</td>\n",
       "      <td>5.678554e+00</td>\n",
       "    </tr>\n",
       "    <tr>\n",
       "      <td>min</td>\n",
       "      <td>0.000000e+00</td>\n",
       "      <td>5.000000e+00</td>\n",
       "      <td>4.677100e+04</td>\n",
       "      <td>4.677500e+04</td>\n",
       "      <td>1.000000e-08</td>\n",
       "      <td>1.000000e-08</td>\n",
       "      <td>1.742000e-02</td>\n",
       "      <td>3.632737e-02</td>\n",
       "    </tr>\n",
       "    <tr>\n",
       "      <td>25%</td>\n",
       "      <td>2.594200e+04</td>\n",
       "      <td>2.278933e+06</td>\n",
       "      <td>4.748900e+04</td>\n",
       "      <td>4.749018e+04</td>\n",
       "      <td>6.029596e-02</td>\n",
       "      <td>7.086000e-02</td>\n",
       "      <td>6.598750e+00</td>\n",
       "      <td>6.570581e+00</td>\n",
       "    </tr>\n",
       "    <tr>\n",
       "      <td>50%</td>\n",
       "      <td>5.271500e+04</td>\n",
       "      <td>5.232589e+06</td>\n",
       "      <td>4.768200e+04</td>\n",
       "      <td>4.768378e+04</td>\n",
       "      <td>3.574697e-01</td>\n",
       "      <td>3.786273e-01</td>\n",
       "      <td>9.552727e+00</td>\n",
       "      <td>1.010655e+01</td>\n",
       "    </tr>\n",
       "    <tr>\n",
       "      <td>75%</td>\n",
       "      <td>7.956600e+04</td>\n",
       "      <td>8.393518e+06</td>\n",
       "      <td>4.795500e+04</td>\n",
       "      <td>4.795563e+04</td>\n",
       "      <td>1.302444e+00</td>\n",
       "      <td>1.326407e+00</td>\n",
       "      <td>1.242872e+01</td>\n",
       "      <td>1.321780e+01</td>\n",
       "    </tr>\n",
       "    <tr>\n",
       "      <td>max</td>\n",
       "      <td>1.584970e+05</td>\n",
       "      <td>1.005523e+07</td>\n",
       "      <td>4.881500e+04</td>\n",
       "      <td>4.881900e+04</td>\n",
       "      <td>1.204941e+03</td>\n",
       "      <td>9.772888e+01</td>\n",
       "      <td>1.215559e+03</td>\n",
       "      <td>1.123945e+02</td>\n",
       "    </tr>\n",
       "  </tbody>\n",
       "</table>\n",
       "</div>"
      ],
      "text/plain": [
       "         Unnamed: 0  Unnamed: 0.1  best_bid_price  best_ask_price  \\\n",
       "count  1.070878e+06  1.070878e+06    1.070878e+06    1.070878e+06   \n",
       "mean   5.616117e+04  5.196628e+06    4.772334e+04    4.772483e+04   \n",
       "std    3.672838e+04  3.176548e+06    3.641765e+02    3.639573e+02   \n",
       "min    0.000000e+00  5.000000e+00    4.677100e+04    4.677500e+04   \n",
       "25%    2.594200e+04  2.278933e+06    4.748900e+04    4.749018e+04   \n",
       "50%    5.271500e+04  5.232589e+06    4.768200e+04    4.768378e+04   \n",
       "75%    7.956600e+04  8.393518e+06    4.795500e+04    4.795563e+04   \n",
       "max    1.584970e+05  1.005523e+07    4.881500e+04    4.881900e+04   \n",
       "\n",
       "       best_bid_volume  best_ask_volume  bid_total_depth  ask_total_depth  \n",
       "count     1.070878e+06     1.070878e+06     1.070878e+06     1.070878e+06  \n",
       "mean      1.058736e+00     1.118732e+00     9.979630e+00     1.039099e+01  \n",
       "std       2.886894e+00     2.089361e+00     8.567722e+00     5.678554e+00  \n",
       "min       1.000000e-08     1.000000e-08     1.742000e-02     3.632737e-02  \n",
       "25%       6.029596e-02     7.086000e-02     6.598750e+00     6.570581e+00  \n",
       "50%       3.574697e-01     3.786273e-01     9.552727e+00     1.010655e+01  \n",
       "75%       1.302444e+00     1.326407e+00     1.242872e+01     1.321780e+01  \n",
       "max       1.204941e+03     9.772888e+01     1.215559e+03     1.123945e+02  "
      ]
     },
     "execution_count": 9,
     "metadata": {},
     "output_type": "execute_result"
    }
   ],
   "source": [
    "book.describe()"
   ]
  },
  {
   "cell_type": "code",
   "execution_count": 10,
   "metadata": {},
   "outputs": [
    {
     "data": {
      "text/html": [
       "<div>\n",
       "<style scoped>\n",
       "    .dataframe tbody tr th:only-of-type {\n",
       "        vertical-align: middle;\n",
       "    }\n",
       "\n",
       "    .dataframe tbody tr th {\n",
       "        vertical-align: top;\n",
       "    }\n",
       "\n",
       "    .dataframe thead th {\n",
       "        text-align: right;\n",
       "    }\n",
       "</style>\n",
       "<table border=\"1\" class=\"dataframe\">\n",
       "  <thead>\n",
       "    <tr style=\"text-align: right;\">\n",
       "      <th></th>\n",
       "      <th>Unnamed: 0</th>\n",
       "      <th>amount</th>\n",
       "      <th>price</th>\n",
       "      <th>order_type</th>\n",
       "      <th>id</th>\n",
       "    </tr>\n",
       "  </thead>\n",
       "  <tbody>\n",
       "    <tr>\n",
       "      <td>count</td>\n",
       "      <td>156052.000000</td>\n",
       "      <td>1.560520e+05</td>\n",
       "      <td>156052.000000</td>\n",
       "      <td>0.0</td>\n",
       "      <td>1.560520e+05</td>\n",
       "    </tr>\n",
       "    <tr>\n",
       "      <td>mean</td>\n",
       "      <td>298131.044972</td>\n",
       "      <td>3.781888e-02</td>\n",
       "      <td>47711.097871</td>\n",
       "      <td>NaN</td>\n",
       "      <td>8.307459e+08</td>\n",
       "    </tr>\n",
       "    <tr>\n",
       "      <td>std</td>\n",
       "      <td>195959.096479</td>\n",
       "      <td>1.428967e-01</td>\n",
       "      <td>447.242545</td>\n",
       "      <td>NaN</td>\n",
       "      <td>6.125076e+05</td>\n",
       "    </tr>\n",
       "    <tr>\n",
       "      <td>min</td>\n",
       "      <td>112318.000000</td>\n",
       "      <td>1.000000e-08</td>\n",
       "      <td>46771.000000</td>\n",
       "      <td>NaN</td>\n",
       "      <td>8.296984e+08</td>\n",
       "    </tr>\n",
       "    <tr>\n",
       "      <td>25%</td>\n",
       "      <td>151330.750000</td>\n",
       "      <td>2.000000e-04</td>\n",
       "      <td>47394.000000</td>\n",
       "      <td>NaN</td>\n",
       "      <td>8.302076e+08</td>\n",
       "    </tr>\n",
       "    <tr>\n",
       "      <td>50%</td>\n",
       "      <td>190343.500000</td>\n",
       "      <td>4.000000e-04</td>\n",
       "      <td>47652.000000</td>\n",
       "      <td>NaN</td>\n",
       "      <td>8.307987e+08</td>\n",
       "    </tr>\n",
       "    <tr>\n",
       "      <td>75%</td>\n",
       "      <td>568164.250000</td>\n",
       "      <td>1.730579e-02</td>\n",
       "      <td>47980.314156</td>\n",
       "      <td>NaN</td>\n",
       "      <td>8.313207e+08</td>\n",
       "    </tr>\n",
       "    <tr>\n",
       "      <td>max</td>\n",
       "      <td>607177.000000</td>\n",
       "      <td>8.991827e+00</td>\n",
       "      <td>48819.000000</td>\n",
       "      <td>NaN</td>\n",
       "      <td>8.316567e+08</td>\n",
       "    </tr>\n",
       "  </tbody>\n",
       "</table>\n",
       "</div>"
      ],
      "text/plain": [
       "          Unnamed: 0        amount          price  order_type            id\n",
       "count  156052.000000  1.560520e+05  156052.000000         0.0  1.560520e+05\n",
       "mean   298131.044972  3.781888e-02   47711.097871         NaN  8.307459e+08\n",
       "std    195959.096479  1.428967e-01     447.242545         NaN  6.125076e+05\n",
       "min    112318.000000  1.000000e-08   46771.000000         NaN  8.296984e+08\n",
       "25%    151330.750000  2.000000e-04   47394.000000         NaN  8.302076e+08\n",
       "50%    190343.500000  4.000000e-04   47652.000000         NaN  8.307987e+08\n",
       "75%    568164.250000  1.730579e-02   47980.314156         NaN  8.313207e+08\n",
       "max    607177.000000  8.991827e+00   48819.000000         NaN  8.316567e+08"
      ]
     },
     "execution_count": 10,
     "metadata": {},
     "output_type": "execute_result"
    }
   ],
   "source": [
    "trades.describe()"
   ]
  },
  {
   "cell_type": "markdown",
   "metadata": {},
   "source": [
    "# OFI/ TFI"
   ]
  },
  {
   "cell_type": "code",
   "execution_count": 11,
   "metadata": {},
   "outputs": [],
   "source": [
    "def ofi_tfi(quotes, trades, dt):\n",
    "    qdf = quotes.copy().reset_index()\n",
    "    tdf = trades.copy().reset_index()\n",
    "    \n",
    "    qdf['timestamp'] = pd.to_datetime(qdf['receipt_timestamp'])\n",
    "    tdf['timestamp'] = pd.to_datetime(tdf['receipt_timestamp'])\n",
    "                                      \n",
    "    # TFI\n",
    "    tdf['sgn_size'] = np.where(tdf['side'] == 'buy', tdf['amount'], -tdf['amount'])\n",
    "    \n",
    "    # Mid-price change \n",
    "    qdf['Mid-Price'] = (qdf['best_bid_price'] + qdf['best_ask_price'])/2\n",
    "    qdf['Mid-Price Percent Change'] = np.log(qdf['Mid-Price']) - np.log(qdf['Mid-Price'].shift(1))\n",
    "    qdf['Mid-Price Change'] = ((qdf['best_bid_price'] + qdf['best_ask_price'])/2).diff().div(0.1)\n",
    "    qdf['Spread'] = qdf['best_ask_price'] - qdf['best_bid_price']\n",
    "    \n",
    "    # Previous bid and ask prices \n",
    "    qdf['prev_bidprice'] = qdf['best_bid_price'].shift()\n",
    "    qdf['prev_bidsize'] = qdf['best_bid_volume'].shift()\n",
    "    qdf['prev_askprice'] = qdf['best_ask_price'].shift()\n",
    "    qdf['prev_asksize'] = qdf['best_ask_volume'].shift()\n",
    "\n",
    "    qdf.dropna(inplace=True)\n",
    "    \n",
    "    # Creation of Identity Functions for OFI\n",
    "    bid_geq = qdf['best_bid_price'] >= qdf['prev_bidprice']\n",
    "    bid_leq = qdf['best_bid_price'] <= qdf['prev_bidprice']\n",
    "    ask_geq = qdf['best_ask_price'] >= qdf['prev_askprice']\n",
    "    ask_leq = qdf['best_ask_price'] <= qdf['prev_askprice']\n",
    "    \n",
    "    # Creation of OFI Variable\n",
    "    qdf['OFI'] = 0\n",
    "    qdf['OFI'].loc[bid_geq] += qdf['best_bid_volume'].loc[bid_geq]\n",
    "    qdf['OFI'].loc[bid_leq] -= qdf['prev_bidsize'].loc[bid_leq]\n",
    "    qdf['OFI'].loc[ask_geq] += qdf['prev_asksize'][ask_geq]\n",
    "    qdf['OFI'].loc[ask_leq] -= qdf['best_ask_volume'][ask_leq]\n",
    "    \n",
    "    # Creation of ODI Variable\n",
    "    qdf['ODI'] = 0\n",
    "    qdf['ODI'].loc[bid_leq] += 1\n",
    "    qdf['ODI'].loc[ask_geq] -= 1\n",
    "    \n",
    "    # Depth imbalance \n",
    "    qdf['Depth_diff'] = qdf['ask_total_depth'] - qdf['bid_total_depth']\n",
    "    qdf = qdf.set_index('timestamp')\n",
    "    tdf = tdf.set_index('timestamp')\n",
    "    \n",
    "    qdf = qdf[['Mid-Price Percent Change','OFI','ODI','Spread','Depth_diff']].resample(dt).sum().dropna()\n",
    "    tf = tdf['sgn_size'].resample(dt).sum().fillna(0.0)\n",
    "    qdf.name = 'OFI_df_' + str(dt)\n",
    "                                      \n",
    "    ofi_tfi_df = pd.merge(qdf, tf, left_index=True, right_index=True)\n",
    "    ofi_tfi_df['OFI Difference'] = ofi_tfi_df['OFI'] - ofi_tfi_df['OFI'].shift(1)\n",
    "    ofi_tfi_df['ODI Difference'] = ofi_tfi_df['ODI'] - ofi_tfi_df['ODI'].shift(1)\n",
    "    ofi_tfi_df['TFI Difference'] = ofi_tfi_df['sgn_size'] - ofi_tfi_df['sgn_size'].shift(1)\n",
    "    ofi_tfi_df['change_t1'] = ofi_tfi_df['Mid-Price Percent Change'].shift(1)\n",
    "    return ofi_tfi_df.dropna()\n"
   ]
  },
  {
   "cell_type": "code",
   "execution_count": 12,
   "metadata": {},
   "outputs": [
    {
     "name": "stderr",
     "output_type": "stream",
     "text": [
      "/home/imperialhound/anaconda3/envs/cuda/lib/python3.7/site-packages/pandas/core/indexing.py:205: SettingWithCopyWarning: \n",
      "A value is trying to be set on a copy of a slice from a DataFrame\n",
      "\n",
      "See the caveats in the documentation: http://pandas.pydata.org/pandas-docs/stable/user_guide/indexing.html#returning-a-view-versus-a-copy\n",
      "  self._setitem_with_indexer(indexer, value)\n"
     ]
    }
   ],
   "source": [
    "time_differences = ['1S', '10S','30S', '1T', '5T', '10T']\n",
    "\n",
    "dt = '1T'\n",
    "\n",
    "book_processed = ofi_tfi(book, trades, dt)"
   ]
  },
  {
   "cell_type": "code",
   "execution_count": 13,
   "metadata": {},
   "outputs": [
    {
     "data": {
      "text/plain": [
       "(2696, 10)"
      ]
     },
     "execution_count": 13,
     "metadata": {},
     "output_type": "execute_result"
    }
   ],
   "source": [
    "book_processed.shape"
   ]
  },
  {
   "cell_type": "code",
   "execution_count": 14,
   "metadata": {},
   "outputs": [
    {
     "data": {
      "text/html": [
       "<div>\n",
       "<style scoped>\n",
       "    .dataframe tbody tr th:only-of-type {\n",
       "        vertical-align: middle;\n",
       "    }\n",
       "\n",
       "    .dataframe tbody tr th {\n",
       "        vertical-align: top;\n",
       "    }\n",
       "\n",
       "    .dataframe thead th {\n",
       "        text-align: right;\n",
       "    }\n",
       "</style>\n",
       "<table border=\"1\" class=\"dataframe\">\n",
       "  <thead>\n",
       "    <tr style=\"text-align: right;\">\n",
       "      <th></th>\n",
       "      <th>Mid-Price Percent Change</th>\n",
       "      <th>OFI</th>\n",
       "      <th>ODI</th>\n",
       "      <th>Spread</th>\n",
       "      <th>Depth_diff</th>\n",
       "      <th>sgn_size</th>\n",
       "      <th>OFI Difference</th>\n",
       "      <th>ODI Difference</th>\n",
       "      <th>TFI Difference</th>\n",
       "      <th>change_t1</th>\n",
       "    </tr>\n",
       "    <tr>\n",
       "      <th>timestamp</th>\n",
       "      <th></th>\n",
       "      <th></th>\n",
       "      <th></th>\n",
       "      <th></th>\n",
       "      <th></th>\n",
       "      <th></th>\n",
       "      <th></th>\n",
       "      <th></th>\n",
       "      <th></th>\n",
       "      <th></th>\n",
       "    </tr>\n",
       "  </thead>\n",
       "  <tbody>\n",
       "    <tr>\n",
       "      <td>2021-09-16 15:53:00</td>\n",
       "      <td>-0.000255</td>\n",
       "      <td>-7.838233</td>\n",
       "      <td>27</td>\n",
       "      <td>1626.93</td>\n",
       "      <td>3035.259100</td>\n",
       "      <td>0.544180</td>\n",
       "      <td>-32.768119</td>\n",
       "      <td>25.0</td>\n",
       "      <td>0.234222</td>\n",
       "      <td>0.000188</td>\n",
       "    </tr>\n",
       "    <tr>\n",
       "      <td>2021-09-16 15:54:00</td>\n",
       "      <td>-0.001542</td>\n",
       "      <td>-78.110394</td>\n",
       "      <td>43</td>\n",
       "      <td>2159.96</td>\n",
       "      <td>-12725.920527</td>\n",
       "      <td>-0.785061</td>\n",
       "      <td>-70.272161</td>\n",
       "      <td>16.0</td>\n",
       "      <td>-1.329241</td>\n",
       "      <td>-0.000255</td>\n",
       "    </tr>\n",
       "    <tr>\n",
       "      <td>2021-09-16 15:55:00</td>\n",
       "      <td>0.002035</td>\n",
       "      <td>21.962702</td>\n",
       "      <td>-6</td>\n",
       "      <td>1579.03</td>\n",
       "      <td>-11537.948210</td>\n",
       "      <td>2.213451</td>\n",
       "      <td>100.073096</td>\n",
       "      <td>-49.0</td>\n",
       "      <td>2.998512</td>\n",
       "      <td>-0.001542</td>\n",
       "    </tr>\n",
       "    <tr>\n",
       "      <td>2021-09-16 15:56:00</td>\n",
       "      <td>-0.000432</td>\n",
       "      <td>-16.062662</td>\n",
       "      <td>-6</td>\n",
       "      <td>868.58</td>\n",
       "      <td>1551.697926</td>\n",
       "      <td>0.748256</td>\n",
       "      <td>-38.025365</td>\n",
       "      <td>0.0</td>\n",
       "      <td>-1.465195</td>\n",
       "      <td>0.002035</td>\n",
       "    </tr>\n",
       "    <tr>\n",
       "      <td>2021-09-16 15:57:00</td>\n",
       "      <td>-0.002054</td>\n",
       "      <td>-92.350093</td>\n",
       "      <td>-1</td>\n",
       "      <td>1109.80</td>\n",
       "      <td>-12696.819709</td>\n",
       "      <td>-33.199378</td>\n",
       "      <td>-76.287431</td>\n",
       "      <td>5.0</td>\n",
       "      <td>-33.947634</td>\n",
       "      <td>-0.000432</td>\n",
       "    </tr>\n",
       "    <tr>\n",
       "      <td>2021-09-16 15:58:00</td>\n",
       "      <td>0.001095</td>\n",
       "      <td>55.296822</td>\n",
       "      <td>3</td>\n",
       "      <td>1623.54</td>\n",
       "      <td>-2584.308214</td>\n",
       "      <td>-3.295822</td>\n",
       "      <td>147.646915</td>\n",
       "      <td>4.0</td>\n",
       "      <td>29.903556</td>\n",
       "      <td>-0.002054</td>\n",
       "    </tr>\n",
       "    <tr>\n",
       "      <td>2021-09-16 15:59:00</td>\n",
       "      <td>-0.001124</td>\n",
       "      <td>-15.530139</td>\n",
       "      <td>14</td>\n",
       "      <td>768.84</td>\n",
       "      <td>-1695.144139</td>\n",
       "      <td>-0.065716</td>\n",
       "      <td>-70.826961</td>\n",
       "      <td>11.0</td>\n",
       "      <td>3.230106</td>\n",
       "      <td>0.001095</td>\n",
       "    </tr>\n",
       "    <tr>\n",
       "      <td>2021-09-16 16:00:00</td>\n",
       "      <td>-0.000253</td>\n",
       "      <td>-14.929253</td>\n",
       "      <td>24</td>\n",
       "      <td>3927.80</td>\n",
       "      <td>4982.276450</td>\n",
       "      <td>-17.710502</td>\n",
       "      <td>0.600886</td>\n",
       "      <td>10.0</td>\n",
       "      <td>-17.644785</td>\n",
       "      <td>-0.001124</td>\n",
       "    </tr>\n",
       "    <tr>\n",
       "      <td>2021-09-16 16:01:00</td>\n",
       "      <td>0.001537</td>\n",
       "      <td>89.229368</td>\n",
       "      <td>-16</td>\n",
       "      <td>976.10</td>\n",
       "      <td>-1374.659331</td>\n",
       "      <td>4.613355</td>\n",
       "      <td>104.158621</td>\n",
       "      <td>-40.0</td>\n",
       "      <td>22.323856</td>\n",
       "      <td>-0.000253</td>\n",
       "    </tr>\n",
       "    <tr>\n",
       "      <td>2021-09-16 16:02:00</td>\n",
       "      <td>0.000801</td>\n",
       "      <td>93.493708</td>\n",
       "      <td>-16</td>\n",
       "      <td>2041.06</td>\n",
       "      <td>221.173501</td>\n",
       "      <td>-0.102138</td>\n",
       "      <td>4.264341</td>\n",
       "      <td>0.0</td>\n",
       "      <td>-4.715492</td>\n",
       "      <td>0.001537</td>\n",
       "    </tr>\n",
       "  </tbody>\n",
       "</table>\n",
       "</div>"
      ],
      "text/plain": [
       "                     Mid-Price Percent Change        OFI  ODI   Spread  \\\n",
       "timestamp                                                                \n",
       "2021-09-16 15:53:00                 -0.000255  -7.838233   27  1626.93   \n",
       "2021-09-16 15:54:00                 -0.001542 -78.110394   43  2159.96   \n",
       "2021-09-16 15:55:00                  0.002035  21.962702   -6  1579.03   \n",
       "2021-09-16 15:56:00                 -0.000432 -16.062662   -6   868.58   \n",
       "2021-09-16 15:57:00                 -0.002054 -92.350093   -1  1109.80   \n",
       "2021-09-16 15:58:00                  0.001095  55.296822    3  1623.54   \n",
       "2021-09-16 15:59:00                 -0.001124 -15.530139   14   768.84   \n",
       "2021-09-16 16:00:00                 -0.000253 -14.929253   24  3927.80   \n",
       "2021-09-16 16:01:00                  0.001537  89.229368  -16   976.10   \n",
       "2021-09-16 16:02:00                  0.000801  93.493708  -16  2041.06   \n",
       "\n",
       "                       Depth_diff   sgn_size  OFI Difference  ODI Difference  \\\n",
       "timestamp                                                                      \n",
       "2021-09-16 15:53:00   3035.259100   0.544180      -32.768119            25.0   \n",
       "2021-09-16 15:54:00 -12725.920527  -0.785061      -70.272161            16.0   \n",
       "2021-09-16 15:55:00 -11537.948210   2.213451      100.073096           -49.0   \n",
       "2021-09-16 15:56:00   1551.697926   0.748256      -38.025365             0.0   \n",
       "2021-09-16 15:57:00 -12696.819709 -33.199378      -76.287431             5.0   \n",
       "2021-09-16 15:58:00  -2584.308214  -3.295822      147.646915             4.0   \n",
       "2021-09-16 15:59:00  -1695.144139  -0.065716      -70.826961            11.0   \n",
       "2021-09-16 16:00:00   4982.276450 -17.710502        0.600886            10.0   \n",
       "2021-09-16 16:01:00  -1374.659331   4.613355      104.158621           -40.0   \n",
       "2021-09-16 16:02:00    221.173501  -0.102138        4.264341             0.0   \n",
       "\n",
       "                     TFI Difference  change_t1  \n",
       "timestamp                                       \n",
       "2021-09-16 15:53:00        0.234222   0.000188  \n",
       "2021-09-16 15:54:00       -1.329241  -0.000255  \n",
       "2021-09-16 15:55:00        2.998512  -0.001542  \n",
       "2021-09-16 15:56:00       -1.465195   0.002035  \n",
       "2021-09-16 15:57:00      -33.947634  -0.000432  \n",
       "2021-09-16 15:58:00       29.903556  -0.002054  \n",
       "2021-09-16 15:59:00        3.230106   0.001095  \n",
       "2021-09-16 16:00:00      -17.644785  -0.001124  \n",
       "2021-09-16 16:01:00       22.323856  -0.000253  \n",
       "2021-09-16 16:02:00       -4.715492   0.001537  "
      ]
     },
     "execution_count": 14,
     "metadata": {},
     "output_type": "execute_result"
    }
   ],
   "source": [
    "book_processed.head(10)"
   ]
  },
  {
   "cell_type": "markdown",
   "metadata": {},
   "source": [
    "# Correlations"
   ]
  },
  {
   "cell_type": "code",
   "execution_count": 15,
   "metadata": {},
   "outputs": [],
   "source": [
    "metrics_generator = Metrics()"
   ]
  },
  {
   "cell_type": "code",
   "execution_count": 16,
   "metadata": {},
   "outputs": [
    {
     "data": {
      "text/html": [
       "<div>\n",
       "<style scoped>\n",
       "    .dataframe tbody tr th:only-of-type {\n",
       "        vertical-align: middle;\n",
       "    }\n",
       "\n",
       "    .dataframe tbody tr th {\n",
       "        vertical-align: top;\n",
       "    }\n",
       "\n",
       "    .dataframe thead th {\n",
       "        text-align: right;\n",
       "    }\n",
       "</style>\n",
       "<table border=\"1\" class=\"dataframe\">\n",
       "  <thead>\n",
       "    <tr style=\"text-align: right;\">\n",
       "      <th></th>\n",
       "      <th>Mid-Price Percent Change</th>\n",
       "      <th>OFI</th>\n",
       "      <th>ODI</th>\n",
       "      <th>Spread</th>\n",
       "      <th>Depth_diff</th>\n",
       "      <th>sgn_size</th>\n",
       "      <th>OFI Difference</th>\n",
       "      <th>ODI Difference</th>\n",
       "      <th>TFI Difference</th>\n",
       "      <th>change_t1</th>\n",
       "    </tr>\n",
       "  </thead>\n",
       "  <tbody>\n",
       "    <tr>\n",
       "      <td>Mid-Price Percent Change</td>\n",
       "      <td>1.000000</td>\n",
       "      <td>0.434783</td>\n",
       "      <td>-0.596727</td>\n",
       "      <td>0.104969</td>\n",
       "      <td>-0.349928</td>\n",
       "      <td>0.429877</td>\n",
       "      <td>0.333315</td>\n",
       "      <td>-0.486221</td>\n",
       "      <td>0.325814</td>\n",
       "      <td>-0.088688</td>\n",
       "    </tr>\n",
       "    <tr>\n",
       "      <td>OFI</td>\n",
       "      <td>0.434783</td>\n",
       "      <td>1.000000</td>\n",
       "      <td>-0.445753</td>\n",
       "      <td>0.034515</td>\n",
       "      <td>-0.435653</td>\n",
       "      <td>0.209872</td>\n",
       "      <td>0.675270</td>\n",
       "      <td>-0.291188</td>\n",
       "      <td>0.157403</td>\n",
       "      <td>0.023604</td>\n",
       "    </tr>\n",
       "    <tr>\n",
       "      <td>ODI</td>\n",
       "      <td>-0.596727</td>\n",
       "      <td>-0.445753</td>\n",
       "      <td>1.000000</td>\n",
       "      <td>0.051402</td>\n",
       "      <td>0.302111</td>\n",
       "      <td>-0.164370</td>\n",
       "      <td>-0.289422</td>\n",
       "      <td>0.638250</td>\n",
       "      <td>-0.116022</td>\n",
       "      <td>-0.023413</td>\n",
       "    </tr>\n",
       "    <tr>\n",
       "      <td>Spread</td>\n",
       "      <td>0.104969</td>\n",
       "      <td>0.034515</td>\n",
       "      <td>0.051402</td>\n",
       "      <td>1.000000</td>\n",
       "      <td>-0.049210</td>\n",
       "      <td>0.014689</td>\n",
       "      <td>0.020880</td>\n",
       "      <td>0.025852</td>\n",
       "      <td>0.066611</td>\n",
       "      <td>-0.003521</td>\n",
       "    </tr>\n",
       "    <tr>\n",
       "      <td>Depth_diff</td>\n",
       "      <td>-0.349928</td>\n",
       "      <td>-0.435653</td>\n",
       "      <td>0.302111</td>\n",
       "      <td>-0.049210</td>\n",
       "      <td>1.000000</td>\n",
       "      <td>-0.145133</td>\n",
       "      <td>-0.123213</td>\n",
       "      <td>0.082439</td>\n",
       "      <td>-0.008525</td>\n",
       "      <td>-0.232508</td>\n",
       "    </tr>\n",
       "    <tr>\n",
       "      <td>sgn_size</td>\n",
       "      <td>0.429877</td>\n",
       "      <td>0.209872</td>\n",
       "      <td>-0.164370</td>\n",
       "      <td>0.014689</td>\n",
       "      <td>-0.145133</td>\n",
       "      <td>1.000000</td>\n",
       "      <td>0.132654</td>\n",
       "      <td>-0.085141</td>\n",
       "      <td>0.679832</td>\n",
       "      <td>0.049916</td>\n",
       "    </tr>\n",
       "    <tr>\n",
       "      <td>OFI Difference</td>\n",
       "      <td>0.333315</td>\n",
       "      <td>0.675270</td>\n",
       "      <td>-0.289422</td>\n",
       "      <td>0.020880</td>\n",
       "      <td>-0.123213</td>\n",
       "      <td>0.132654</td>\n",
       "      <td>1.000000</td>\n",
       "      <td>-0.442297</td>\n",
       "      <td>0.214110</td>\n",
       "      <td>-0.304475</td>\n",
       "    </tr>\n",
       "    <tr>\n",
       "      <td>ODI Difference</td>\n",
       "      <td>-0.486221</td>\n",
       "      <td>-0.291188</td>\n",
       "      <td>0.638250</td>\n",
       "      <td>0.025852</td>\n",
       "      <td>0.082439</td>\n",
       "      <td>-0.085141</td>\n",
       "      <td>-0.442297</td>\n",
       "      <td>1.000000</td>\n",
       "      <td>-0.153506</td>\n",
       "      <td>0.449107</td>\n",
       "    </tr>\n",
       "    <tr>\n",
       "      <td>TFI Difference</td>\n",
       "      <td>0.325814</td>\n",
       "      <td>0.157403</td>\n",
       "      <td>-0.116022</td>\n",
       "      <td>0.066611</td>\n",
       "      <td>-0.008525</td>\n",
       "      <td>0.679832</td>\n",
       "      <td>0.214110</td>\n",
       "      <td>-0.153506</td>\n",
       "      <td>1.000000</td>\n",
       "      <td>-0.279456</td>\n",
       "    </tr>\n",
       "    <tr>\n",
       "      <td>change_t1</td>\n",
       "      <td>-0.088688</td>\n",
       "      <td>0.023604</td>\n",
       "      <td>-0.023413</td>\n",
       "      <td>-0.003521</td>\n",
       "      <td>-0.232508</td>\n",
       "      <td>0.049916</td>\n",
       "      <td>-0.304475</td>\n",
       "      <td>0.449107</td>\n",
       "      <td>-0.279456</td>\n",
       "      <td>1.000000</td>\n",
       "    </tr>\n",
       "  </tbody>\n",
       "</table>\n",
       "</div>"
      ],
      "text/plain": [
       "                          Mid-Price Percent Change       OFI       ODI  \\\n",
       "Mid-Price Percent Change                  1.000000  0.434783 -0.596727   \n",
       "OFI                                       0.434783  1.000000 -0.445753   \n",
       "ODI                                      -0.596727 -0.445753  1.000000   \n",
       "Spread                                    0.104969  0.034515  0.051402   \n",
       "Depth_diff                               -0.349928 -0.435653  0.302111   \n",
       "sgn_size                                  0.429877  0.209872 -0.164370   \n",
       "OFI Difference                            0.333315  0.675270 -0.289422   \n",
       "ODI Difference                           -0.486221 -0.291188  0.638250   \n",
       "TFI Difference                            0.325814  0.157403 -0.116022   \n",
       "change_t1                                -0.088688  0.023604 -0.023413   \n",
       "\n",
       "                            Spread  Depth_diff  sgn_size  OFI Difference  \\\n",
       "Mid-Price Percent Change  0.104969   -0.349928  0.429877        0.333315   \n",
       "OFI                       0.034515   -0.435653  0.209872        0.675270   \n",
       "ODI                       0.051402    0.302111 -0.164370       -0.289422   \n",
       "Spread                    1.000000   -0.049210  0.014689        0.020880   \n",
       "Depth_diff               -0.049210    1.000000 -0.145133       -0.123213   \n",
       "sgn_size                  0.014689   -0.145133  1.000000        0.132654   \n",
       "OFI Difference            0.020880   -0.123213  0.132654        1.000000   \n",
       "ODI Difference            0.025852    0.082439 -0.085141       -0.442297   \n",
       "TFI Difference            0.066611   -0.008525  0.679832        0.214110   \n",
       "change_t1                -0.003521   -0.232508  0.049916       -0.304475   \n",
       "\n",
       "                          ODI Difference  TFI Difference  change_t1  \n",
       "Mid-Price Percent Change       -0.486221        0.325814  -0.088688  \n",
       "OFI                            -0.291188        0.157403   0.023604  \n",
       "ODI                             0.638250       -0.116022  -0.023413  \n",
       "Spread                          0.025852        0.066611  -0.003521  \n",
       "Depth_diff                      0.082439       -0.008525  -0.232508  \n",
       "sgn_size                       -0.085141        0.679832   0.049916  \n",
       "OFI Difference                 -0.442297        0.214110  -0.304475  \n",
       "ODI Difference                  1.000000       -0.153506   0.449107  \n",
       "TFI Difference                 -0.153506        1.000000  -0.279456  \n",
       "change_t1                       0.449107       -0.279456   1.000000  "
      ]
     },
     "execution_count": 16,
     "metadata": {},
     "output_type": "execute_result"
    }
   ],
   "source": [
    "book_processed.corr()"
   ]
  },
  {
   "cell_type": "code",
   "execution_count": 17,
   "metadata": {},
   "outputs": [
    {
     "data": {
      "image/png": "[encoded data removed]",
      "text/plain": [
       "<Figure size 864x720 with 1 Axes>"
      ]
     },
     "metadata": {
      "needs_background": "light"
     },
     "output_type": "display_data"
    }
   ],
   "source": [
    "metrics_generator.plot_correlation(book_processed, 'OFI Difference', 'Mid-Price Percent Change', coin='BTCUSD', dt=dt)"
   ]
  },
  {
   "cell_type": "code",
   "execution_count": 18,
   "metadata": {},
   "outputs": [
    {
     "data": {
      "image/png": "[encoded data removed]",
      "text/plain": [
       "<Figure size 864x720 with 1 Axes>"
      ]
     },
     "metadata": {
      "needs_background": "light"
     },
     "output_type": "display_data"
    }
   ],
   "source": [
    "metrics_generator.plot_correlation(book_processed, 'ODI Difference', 'Mid-Price Percent Change', coin='BTCUSD', dt=dt)"
   ]
  },
  {
   "cell_type": "code",
   "execution_count": 19,
   "metadata": {},
   "outputs": [
    {
     "data": {
      "image/png": "[encoded data removed]",
      "text/plain": [
       "<Figure size 864x720 with 1 Axes>"
      ]
     },
     "metadata": {
      "needs_background": "light"
     },
     "output_type": "display_data"
    }
   ],
   "source": [
    "metrics_generator.plot_correlation(book_processed, 'TFI Difference', 'Mid-Price Percent Change', coin='BTCUSD', dt=dt)"
   ]
  },
  {
   "cell_type": "code",
   "execution_count": 20,
   "metadata": {},
   "outputs": [
    {
     "data": {
      "image/png": "[encoded data removed]",
      "text/plain": [
       "<Figure size 864x720 with 1 Axes>"
      ]
     },
     "metadata": {
      "needs_background": "light"
     },
     "output_type": "display_data"
    }
   ],
   "source": [
    "metrics_generator.plot_correlation(book_processed, 'Depth_diff', 'Mid-Price Percent Change', coin='BTCUSD', dt=dt)"
   ]
  },
  {
   "cell_type": "markdown",
   "metadata": {},
   "source": [
    "# General Regressions"
   ]
  },
  {
   "cell_type": "code",
   "execution_count": 21,
   "metadata": {},
   "outputs": [
    {
     "name": "stdout",
     "output_type": "stream",
     "text": [
      "                      Results: Ordinary least squares\n",
      "============================================================================\n",
      "Model:              OLS                      Adj. R-squared:     0.111      \n",
      "Dependent Variable: Mid-Price Percent Change AIC:                -31999.7412\n",
      "Date:               2021-10-01 09:26         BIC:                -31987.9421\n",
      "No. Observations:   2696                     Log-Likelihood:     16002.     \n",
      "Df Model:           1                        F-statistic:        336.7      \n",
      "Df Residuals:       2694                     Prob (F-statistic): 5.86e-71   \n",
      "R-squared:          0.111                    Scale:              4.0965e-07 \n",
      "-------------------------------------------------------------------------------\n",
      "                   Coef.     Std.Err.       t       P>|t|      [0.025    0.975]\n",
      "-------------------------------------------------------------------------------\n",
      "const              0.0000      0.0000     0.6618    0.5082    -0.0000    0.0000\n",
      "OFI Difference     0.0000      0.0000    18.3496    0.0000     0.0000    0.0000\n",
      "----------------------------------------------------------------------------\n",
      "Omnibus:                 750.718         Durbin-Watson:            2.068    \n",
      "Prob(Omnibus):           0.000           Jarque-Bera (JB):         30883.384\n",
      "Skew:                    0.579           Prob(JB):                 0.000    \n",
      "Kurtosis:                19.540          Condition No.:            48       \n",
      "============================================================================\n",
      "\n"
     ]
    },
    {
     "name": "stderr",
     "output_type": "stream",
     "text": [
      "/home/imperialhound/anaconda3/envs/cuda/lib/python3.7/site-packages/numpy/core/fromnumeric.py:2495: FutureWarning: Method .ptp is deprecated and will be removed in a future version. Use numpy.ptp instead.\n",
      "  return ptp(axis=axis, out=out, **kwargs)\n"
     ]
    },
    {
     "data": {
      "text/plain": [
       "<statsmodels.regression.linear_model.RegressionResultsWrapper at 0x7f8406bca150>"
      ]
     },
     "execution_count": 21,
     "metadata": {},
     "output_type": "execute_result"
    }
   ],
   "source": [
    "metrics_generator.plot_ols_summary(book_processed, ['OFI Difference'], 'Mid-Price Percent Change')"
   ]
  },
  {
   "cell_type": "code",
   "execution_count": 22,
   "metadata": {},
   "outputs": [
    {
     "name": "stdout",
     "output_type": "stream",
     "text": [
      "                      Results: Ordinary least squares\n",
      "============================================================================\n",
      "Model:              OLS                      Adj. R-squared:     0.236      \n",
      "Dependent Variable: Mid-Price Percent Change AIC:                -32409.4140\n",
      "Date:               2021-10-01 09:26         BIC:                -32397.6149\n",
      "No. Observations:   2696                     Log-Likelihood:     16207.     \n",
      "Df Model:           1                        F-statistic:        834.1      \n",
      "Df Residuals:       2694                     Prob (F-statistic): 5.15e-160  \n",
      "R-squared:          0.236                    Scale:              3.5190e-07 \n",
      "------------------------------------------------------------------------------\n",
      "                     Coef.    Std.Err.      t       P>|t|     [0.025    0.975]\n",
      "------------------------------------------------------------------------------\n",
      "const                0.0000     0.0000     0.7105   0.4774   -0.0000    0.0000\n",
      "ODI Difference      -0.0000     0.0000   -28.8804   0.0000   -0.0000   -0.0000\n",
      "----------------------------------------------------------------------------\n",
      "Omnibus:                1066.024         Durbin-Watson:            1.896    \n",
      "Prob(Omnibus):          0.000            Jarque-Bera (JB):         51459.347\n",
      "Skew:                   1.114            Prob(JB):                 0.000    \n",
      "Kurtosis:               24.287           Condition No.:            15       \n",
      "============================================================================\n",
      "\n"
     ]
    },
    {
     "name": "stderr",
     "output_type": "stream",
     "text": [
      "/home/imperialhound/anaconda3/envs/cuda/lib/python3.7/site-packages/numpy/core/fromnumeric.py:2495: FutureWarning: Method .ptp is deprecated and will be removed in a future version. Use numpy.ptp instead.\n",
      "  return ptp(axis=axis, out=out, **kwargs)\n"
     ]
    },
    {
     "data": {
      "text/plain": [
       "<statsmodels.regression.linear_model.RegressionResultsWrapper at 0x7f83eb85fcd0>"
      ]
     },
     "execution_count": 22,
     "metadata": {},
     "output_type": "execute_result"
    }
   ],
   "source": [
    "metrics_generator.plot_ols_summary(book_processed, ['ODI Difference'], 'Mid-Price Percent Change')"
   ]
  },
  {
   "cell_type": "code",
   "execution_count": 23,
   "metadata": {},
   "outputs": [
    {
     "name": "stdout",
     "output_type": "stream",
     "text": [
      "                      Results: Ordinary least squares\n",
      "============================================================================\n",
      "Model:              OLS                      Adj. R-squared:     0.106      \n",
      "Dependent Variable: Mid-Price Percent Change AIC:                -31984.7876\n",
      "Date:               2021-10-01 09:26         BIC:                -31972.9885\n",
      "No. Observations:   2696                     Log-Likelihood:     15994.     \n",
      "Df Model:           1                        F-statistic:        319.9      \n",
      "Df Residuals:       2694                     Prob (F-statistic): 1.05e-67   \n",
      "R-squared:          0.106                    Scale:              4.1193e-07 \n",
      "-------------------------------------------------------------------------------\n",
      "                   Coef.     Std.Err.       t       P>|t|      [0.025    0.975]\n",
      "-------------------------------------------------------------------------------\n",
      "const              0.0000      0.0000     0.6567    0.5114    -0.0000    0.0000\n",
      "TFI Difference     0.0000      0.0000    17.8870    0.0000     0.0000    0.0001\n",
      "----------------------------------------------------------------------------\n",
      "Omnibus:                374.505          Durbin-Watson:             2.096   \n",
      "Prob(Omnibus):          0.000            Jarque-Bera (JB):          3300.169\n",
      "Skew:                   0.358            Prob(JB):                  0.000   \n",
      "Kurtosis:               8.373            Condition No.:             5       \n",
      "============================================================================\n",
      "\n"
     ]
    },
    {
     "name": "stderr",
     "output_type": "stream",
     "text": [
      "/home/imperialhound/anaconda3/envs/cuda/lib/python3.7/site-packages/numpy/core/fromnumeric.py:2495: FutureWarning: Method .ptp is deprecated and will be removed in a future version. Use numpy.ptp instead.\n",
      "  return ptp(axis=axis, out=out, **kwargs)\n"
     ]
    },
    {
     "data": {
      "text/plain": [
       "<statsmodels.regression.linear_model.RegressionResultsWrapper at 0x7f83eb85f850>"
      ]
     },
     "execution_count": 23,
     "metadata": {},
     "output_type": "execute_result"
    }
   ],
   "source": [
    "metrics_generator.plot_ols_summary(book_processed, ['TFI Difference'], 'Mid-Price Percent Change')"
   ]
  },
  {
   "cell_type": "code",
   "execution_count": 24,
   "metadata": {},
   "outputs": [
    {
     "name": "stdout",
     "output_type": "stream",
     "text": [
      "                      Results: Ordinary least squares\n",
      "============================================================================\n",
      "Model:              OLS                      Adj. R-squared:     0.253      \n",
      "Dependent Variable: Mid-Price Percent Change AIC:                -32469.5122\n",
      "Date:               2021-10-01 09:26         BIC:                -32451.8136\n",
      "No. Observations:   2696                     Log-Likelihood:     16238.     \n",
      "Df Model:           2                        F-statistic:        458.0      \n",
      "Df Residuals:       2693                     Prob (F-statistic): 6.33e-172  \n",
      "R-squared:          0.254                    Scale:              3.4402e-07 \n",
      "------------------------------------------------------------------------------\n",
      "                     Coef.    Std.Err.      t       P>|t|     [0.025    0.975]\n",
      "------------------------------------------------------------------------------\n",
      "const                0.0000     0.0000     0.7204   0.4714   -0.0000    0.0000\n",
      "ODI Difference      -0.0000     0.0000   -22.6934   0.0000   -0.0000   -0.0000\n",
      "OFI Difference       0.0000     0.0000     7.9214   0.0000    0.0000    0.0000\n",
      "----------------------------------------------------------------------------\n",
      "Omnibus:                1015.749         Durbin-Watson:            1.870    \n",
      "Prob(Omnibus):          0.000            Jarque-Bera (JB):         46523.809\n",
      "Skew:                   1.039            Prob(JB):                 0.000    \n",
      "Kurtosis:               23.245           Condition No.:            48       \n",
      "============================================================================\n",
      "\n"
     ]
    },
    {
     "name": "stderr",
     "output_type": "stream",
     "text": [
      "/home/imperialhound/anaconda3/envs/cuda/lib/python3.7/site-packages/numpy/core/fromnumeric.py:2495: FutureWarning: Method .ptp is deprecated and will be removed in a future version. Use numpy.ptp instead.\n",
      "  return ptp(axis=axis, out=out, **kwargs)\n"
     ]
    },
    {
     "data": {
      "text/plain": [
       "<statsmodels.regression.linear_model.RegressionResultsWrapper at 0x7f83f00b62d0>"
      ]
     },
     "execution_count": 24,
     "metadata": {},
     "output_type": "execute_result"
    }
   ],
   "source": [
    "metrics_generator.plot_ols_summary(book_processed, ['ODI Difference','OFI Difference'], 'Mid-Price Percent Change')"
   ]
  },
  {
   "cell_type": "code",
   "execution_count": 25,
   "metadata": {},
   "outputs": [
    {
     "name": "stdout",
     "output_type": "stream",
     "text": [
      "                      Results: Ordinary least squares\n",
      "============================================================================\n",
      "Model:              OLS                      Adj. R-squared:     0.309      \n",
      "Dependent Variable: Mid-Price Percent Change AIC:                -32676.0269\n",
      "Date:               2021-10-01 09:26         BIC:                -32652.4288\n",
      "No. Observations:   2696                     Log-Likelihood:     16342.     \n",
      "Df Model:           3                        F-statistic:        401.9      \n",
      "Df Residuals:       2692                     Prob (F-statistic): 1.04e-215  \n",
      "R-squared:          0.309                    Scale:              3.1853e-07 \n",
      "------------------------------------------------------------------------------\n",
      "                     Coef.    Std.Err.      t       P>|t|     [0.025    0.975]\n",
      "------------------------------------------------------------------------------\n",
      "const                0.0000     0.0000     0.7486   0.4542   -0.0000    0.0000\n",
      "ODI Difference      -0.0000     0.0000   -22.5430   0.0000   -0.0000   -0.0000\n",
      "OFI Difference       0.0000     0.0000     5.6920   0.0000    0.0000    0.0000\n",
      "TFI Difference       0.0000     0.0000    14.7129   0.0000    0.0000    0.0000\n",
      "----------------------------------------------------------------------------\n",
      "Omnibus:                 733.301         Durbin-Watson:            1.798    \n",
      "Prob(Omnibus):           0.000           Jarque-Bera (JB):         18389.205\n",
      "Skew:                    0.711           Prob(JB):                 0.000    \n",
      "Kurtosis:                15.715          Condition No.:            48       \n",
      "============================================================================\n",
      "\n"
     ]
    },
    {
     "name": "stderr",
     "output_type": "stream",
     "text": [
      "/home/imperialhound/anaconda3/envs/cuda/lib/python3.7/site-packages/numpy/core/fromnumeric.py:2495: FutureWarning: Method .ptp is deprecated and will be removed in a future version. Use numpy.ptp instead.\n",
      "  return ptp(axis=axis, out=out, **kwargs)\n"
     ]
    },
    {
     "data": {
      "text/plain": [
       "<statsmodels.regression.linear_model.RegressionResultsWrapper at 0x7f83e98d9e90>"
      ]
     },
     "execution_count": 25,
     "metadata": {},
     "output_type": "execute_result"
    }
   ],
   "source": [
    "metrics_generator.plot_ols_summary(book_processed, ['ODI Difference','OFI Difference','TFI Difference'], 'Mid-Price Percent Change')"
   ]
  },
  {
   "cell_type": "markdown",
   "metadata": {},
   "source": [
    "# Exploring "
   ]
  },
  {
   "cell_type": "code",
   "execution_count": 26,
   "metadata": {},
   "outputs": [
    {
     "name": "stdout",
     "output_type": "stream",
     "text": [
      "ADF Statistic: -17.585592994747483\n",
      "p-value: 3.9873518407726944e-30\n",
      "Critial Values:\n",
      "   1%, -3.4327860097199814\n",
      "   5%, -2.862616249081039\n",
      "   10%, -2.5673429234848517\n",
      "KPSS Statistic: 0.13367124289670246\n",
      "p-value: 0.1\n",
      "num lags: 28\n",
      "Critial Values:\n",
      "   10% : 0.347\n",
      "   5% : 0.463\n",
      "   2.5% : 0.574\n",
      "   1% : 0.739\n",
      "Result: The series is stationary\n"
     ]
    },
    {
     "name": "stderr",
     "output_type": "stream",
     "text": [
      "/home/imperialhound/anaconda3/envs/cuda/lib/python3.7/site-packages/statsmodels/tsa/stattools.py:1875: FutureWarning: The behavior of using nlags=None will change in release 0.13.Currently nlags=None is the same as nlags=\"legacy\", and so a sample-size lag length is used. After the next release, the default will change to be the same as nlags=\"auto\" which uses an automatic lag length selection method. To silence this warning, either use \"auto\" or \"legacy\"\n",
      "  warnings.warn(msg, FutureWarning)\n",
      "/home/imperialhound/anaconda3/envs/cuda/lib/python3.7/site-packages/statsmodels/tsa/stattools.py:1911: InterpolationWarning: The test statistic is outside of the range of p-values available in the\n",
      "look-up table. The actual p-value is greater than the p-value returned.\n",
      "\n",
      "  warn_msg.format(direction=\"greater\"), InterpolationWarning\n"
     ]
    },
    {
     "data": {
      "image/png": "[encoded data removed]",
      "text/plain": [
       "<Figure size 432x288 with 1 Axes>"
      ]
     },
     "metadata": {
      "needs_background": "light"
     },
     "output_type": "display_data"
    },
    {
     "data": {
      "image/png": "[encoded data removed]",
      "text/plain": [
       "<Figure size 432x288 with 1 Axes>"
      ]
     },
     "metadata": {
      "needs_background": "light"
     },
     "output_type": "display_data"
    }
   ],
   "source": [
    "metrics_generator.adf(book_processed['Mid-Price Percent Change'].values)\n",
    "metrics_generator.kpss_test(book_processed['Mid-Price Percent Change'].values)\n",
    "metrics_generator.plot_acf_pacf(book_processed['Mid-Price Percent Change'].values)"
   ]
  },
  {
   "cell_type": "code",
   "execution_count": 27,
   "metadata": {},
   "outputs": [
    {
     "name": "stdout",
     "output_type": "stream",
     "text": [
      "ADF Statistic: -11.716697854239687\n",
      "p-value: 1.4455305612538729e-21\n",
      "Critial Values:\n",
      "   1%, -3.4327905554828577\n",
      "   5%, -2.8626182566141165\n",
      "   10%, -2.5673439923015366\n",
      "KPSS Statistic: 0.4924896990978956\n",
      "p-value: 0.04335817587885235\n",
      "num lags: 28\n",
      "Critial Values:\n",
      "   10% : 0.347\n",
      "   5% : 0.463\n",
      "   2.5% : 0.574\n",
      "   1% : 0.739\n",
      "Result: The series is not stationary\n"
     ]
    },
    {
     "name": "stderr",
     "output_type": "stream",
     "text": [
      "/home/imperialhound/anaconda3/envs/cuda/lib/python3.7/site-packages/statsmodels/tsa/stattools.py:1875: FutureWarning: The behavior of using nlags=None will change in release 0.13.Currently nlags=None is the same as nlags=\"legacy\", and so a sample-size lag length is used. After the next release, the default will change to be the same as nlags=\"auto\" which uses an automatic lag length selection method. To silence this warning, either use \"auto\" or \"legacy\"\n",
      "  warnings.warn(msg, FutureWarning)\n"
     ]
    },
    {
     "data": {
      "image/png": "[encoded data removed]",
      "text/plain": [
       "<Figure size 432x288 with 1 Axes>"
      ]
     },
     "metadata": {
      "needs_background": "light"
     },
     "output_type": "display_data"
    },
    {
     "data": {
      "image/png": "[encoded data removed]",
      "text/plain": [
       "<Figure size 432x288 with 1 Axes>"
      ]
     },
     "metadata": {
      "needs_background": "light"
     },
     "output_type": "display_data"
    }
   ],
   "source": [
    "metrics_generator.adf(book_processed['Depth_diff'].values)\n",
    "metrics_generator.kpss_test(book_processed['Depth_diff'].values)\n",
    "metrics_generator.plot_acf_pacf(book_processed['Depth_diff'].values)"
   ]
  },
  {
   "cell_type": "code",
   "execution_count": 28,
   "metadata": {},
   "outputs": [
    {
     "name": "stdout",
     "output_type": "stream",
     "text": [
      "ADF Statistic: -16.94911561883417\n",
      "p-value: 9.490655021723551e-30\n",
      "Critial Values:\n",
      "   1%, -3.4328042951371307\n",
      "   5%, -2.86262432440224\n",
      "   10%, -2.5673472228134027\n",
      "KPSS Statistic: 0.006483083293645485\n",
      "p-value: 0.1\n",
      "num lags: 28\n",
      "Critial Values:\n",
      "   10% : 0.347\n",
      "   5% : 0.463\n",
      "   2.5% : 0.574\n",
      "   1% : 0.739\n",
      "Result: The series is stationary\n"
     ]
    },
    {
     "name": "stderr",
     "output_type": "stream",
     "text": [
      "/home/imperialhound/anaconda3/envs/cuda/lib/python3.7/site-packages/statsmodels/tsa/stattools.py:1875: FutureWarning: The behavior of using nlags=None will change in release 0.13.Currently nlags=None is the same as nlags=\"legacy\", and so a sample-size lag length is used. After the next release, the default will change to be the same as nlags=\"auto\" which uses an automatic lag length selection method. To silence this warning, either use \"auto\" or \"legacy\"\n",
      "  warnings.warn(msg, FutureWarning)\n",
      "/home/imperialhound/anaconda3/envs/cuda/lib/python3.7/site-packages/statsmodels/tsa/stattools.py:1911: InterpolationWarning: The test statistic is outside of the range of p-values available in the\n",
      "look-up table. The actual p-value is greater than the p-value returned.\n",
      "\n",
      "  warn_msg.format(direction=\"greater\"), InterpolationWarning\n"
     ]
    },
    {
     "data": {
      "image/png": "[encoded data removed]",
      "text/plain": [
       "<Figure size 432x288 with 1 Axes>"
      ]
     },
     "metadata": {
      "needs_background": "light"
     },
     "output_type": "display_data"
    },
    {
     "data": {
      "image/png": "[encoded data removed]",
      "text/plain": [
       "<Figure size 432x288 with 1 Axes>"
      ]
     },
     "metadata": {
      "needs_background": "light"
     },
     "output_type": "display_data"
    }
   ],
   "source": [
    "metrics_generator.adf(book_processed['OFI Difference'].values)\n",
    "metrics_generator.kpss_test(book_processed['OFI Difference'].values)\n",
    "metrics_generator.plot_acf_pacf(book_processed['OFI Difference'].values)"
   ]
  },
  {
   "cell_type": "code",
   "execution_count": 29,
   "metadata": {},
   "outputs": [
    {
     "name": "stdout",
     "output_type": "stream",
     "text": [
      "ADF Statistic: -14.994511607936413\n",
      "p-value: 1.1127804923726428e-27\n",
      "Critial Values:\n",
      "   1%, -3.4328042951371307\n",
      "   5%, -2.86262432440224\n",
      "   10%, -2.5673472228134027\n",
      "KPSS Statistic: 0.0055299966464810325\n",
      "p-value: 0.1\n",
      "num lags: 28\n",
      "Critial Values:\n",
      "   10% : 0.347\n",
      "   5% : 0.463\n",
      "   2.5% : 0.574\n",
      "   1% : 0.739\n",
      "Result: The series is stationary\n"
     ]
    },
    {
     "name": "stderr",
     "output_type": "stream",
     "text": [
      "/home/imperialhound/anaconda3/envs/cuda/lib/python3.7/site-packages/statsmodels/tsa/stattools.py:1875: FutureWarning: The behavior of using nlags=None will change in release 0.13.Currently nlags=None is the same as nlags=\"legacy\", and so a sample-size lag length is used. After the next release, the default will change to be the same as nlags=\"auto\" which uses an automatic lag length selection method. To silence this warning, either use \"auto\" or \"legacy\"\n",
      "  warnings.warn(msg, FutureWarning)\n",
      "/home/imperialhound/anaconda3/envs/cuda/lib/python3.7/site-packages/statsmodels/tsa/stattools.py:1911: InterpolationWarning: The test statistic is outside of the range of p-values available in the\n",
      "look-up table. The actual p-value is greater than the p-value returned.\n",
      "\n",
      "  warn_msg.format(direction=\"greater\"), InterpolationWarning\n"
     ]
    },
    {
     "data": {
      "image/png": "[encoded data removed]",
      "text/plain": [
       "<Figure size 432x288 with 1 Axes>"
      ]
     },
     "metadata": {
      "needs_background": "light"
     },
     "output_type": "display_data"
    },
    {
     "data": {
      "image/png": "[encoded data removed]",
      "text/plain": [
       "<Figure size 432x288 with 1 Axes>"
      ]
     },
     "metadata": {
      "needs_background": "light"
     },
     "output_type": "display_data"
    }
   ],
   "source": [
    "metrics_generator.adf(book_processed['ODI Difference'].values)\n",
    "metrics_generator.kpss_test(book_processed['ODI Difference'].values)\n",
    "metrics_generator.plot_acf_pacf(book_processed['ODI Difference'].values)"
   ]
  },
  {
   "cell_type": "code",
   "execution_count": 30,
   "metadata": {},
   "outputs": [
    {
     "name": "stdout",
     "output_type": "stream",
     "text": [
      "ADF Statistic: -17.979645227639452\n",
      "p-value: 2.777641943083355e-30\n",
      "Critial Values:\n",
      "   1%, -3.432801534844111\n",
      "   5%, -2.862623105387403\n",
      "   10%, -2.5673465738052155\n",
      "KPSS Statistic: 0.0053677457766742615\n",
      "p-value: 0.1\n",
      "num lags: 28\n",
      "Critial Values:\n",
      "   10% : 0.347\n",
      "   5% : 0.463\n",
      "   2.5% : 0.574\n",
      "   1% : 0.739\n",
      "Result: The series is stationary\n"
     ]
    },
    {
     "name": "stderr",
     "output_type": "stream",
     "text": [
      "/home/imperialhound/anaconda3/envs/cuda/lib/python3.7/site-packages/statsmodels/tsa/stattools.py:1875: FutureWarning: The behavior of using nlags=None will change in release 0.13.Currently nlags=None is the same as nlags=\"legacy\", and so a sample-size lag length is used. After the next release, the default will change to be the same as nlags=\"auto\" which uses an automatic lag length selection method. To silence this warning, either use \"auto\" or \"legacy\"\n",
      "  warnings.warn(msg, FutureWarning)\n",
      "/home/imperialhound/anaconda3/envs/cuda/lib/python3.7/site-packages/statsmodels/tsa/stattools.py:1911: InterpolationWarning: The test statistic is outside of the range of p-values available in the\n",
      "look-up table. The actual p-value is greater than the p-value returned.\n",
      "\n",
      "  warn_msg.format(direction=\"greater\"), InterpolationWarning\n"
     ]
    },
    {
     "data": {
      "image/png": "[encoded data removed]",
      "text/plain": [
       "<Figure size 432x288 with 1 Axes>"
      ]
     },
     "metadata": {
      "needs_background": "light"
     },
     "output_type": "display_data"
    },
    {
     "data": {
      "image/png": "[encoded data removed]",
      "text/plain": [
       "<Figure size 432x288 with 1 Axes>"
      ]
     },
     "metadata": {
      "needs_background": "light"
     },
     "output_type": "display_data"
    }
   ],
   "source": [
    "metrics_generator.adf(book_processed['TFI Difference'].values)\n",
    "metrics_generator.kpss_test(book_processed['TFI Difference'].values)\n",
    "metrics_generator.plot_acf_pacf(book_processed['TFI Difference'].values)"
   ]
  },
  {
   "cell_type": "markdown",
   "metadata": {},
   "source": [
    "# Simple Predictions - Testing Theory"
   ]
  },
  {
   "cell_type": "code",
   "execution_count": 31,
   "metadata": {},
   "outputs": [],
   "source": [
    "# Organize dataframe for training \n",
    "time_series_hidden = book_processed[['Mid-Price Percent Change', 'Depth_diff','OFI Difference','ODI Difference','TFI Difference','change_t1']]\n",
    "time_series_no_hidden = book_processed[['Mid-Price Percent Change', 'Depth_diff','OFI Difference','TFI Difference','change_t1']]"
   ]
  },
  {
   "cell_type": "code",
   "execution_count": 32,
   "metadata": {},
   "outputs": [
    {
     "name": "stdout",
     "output_type": "stream",
     "text": [
      "RMSE: 0.00061619392032448\n",
      "R_Squared Score : 0.06950050100106916\n"
     ]
    }
   ],
   "source": [
    "model_statistics = ModelStats(random_walk=True, df=time_series_no_hidden, model='linear regression', target='change_t1')\n",
    "rmse, r2, predictions_list, ytest_list = model_statistics.generate_model_statistics()"
   ]
  },
  {
   "cell_type": "code",
   "execution_count": 33,
   "metadata": {},
   "outputs": [
    {
     "name": "stdout",
     "output_type": "stream",
     "text": [
      "RMSE: 0.0005518390045923218\n",
      "R_Squared Score : 0.44927190561932656\n"
     ]
    }
   ],
   "source": [
    "model_statistics = ModelStats(random_walk=False, df=time_series_no_hidden, model='linear regression', target='change_t1')\n",
    "rmse, r2, predictions_list, ytest_list = model_statistics.generate_model_statistics()"
   ]
  },
  {
   "cell_type": "code",
   "execution_count": 34,
   "metadata": {},
   "outputs": [
    {
     "name": "stdout",
     "output_type": "stream",
     "text": [
      "RMSE: 0.0005014578143000695\n",
      "R_Squared Score : 0.5838926576912767\n"
     ]
    }
   ],
   "source": [
    "model_statistics = ModelStats(random_walk=False, df=time_series_hidden, model='linear regression', target='change_t1')\n",
    "rmse, r2, predictions_list, ytest_list = model_statistics.generate_model_statistics()"
   ]
  },
  {
   "cell_type": "code",
   "execution_count": null,
   "metadata": {},
   "outputs": [],
   "source": []
  }
 ],
 "metadata": {
  "kernelspec": {
   "display_name": "cuda",
   "language": "python",
   "name": "cuda"
  },
  "language_info": {
   "codemirror_mode": {
    "name": "ipython",
    "version": 3
   },
   "file_extension": ".py",
   "mimetype": "text/x-python",
   "name": "python",
   "nbconvert_exporter": "python",
   "pygments_lexer": "ipython3",
   "version": "3.7.11"
  }
 },
 "nbformat": 4,
 "nbformat_minor": 4
}
